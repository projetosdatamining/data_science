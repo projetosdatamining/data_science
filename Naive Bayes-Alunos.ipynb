{
 "cells": [
  {
   "cell_type": "markdown",
   "metadata": {},
   "source": [
    "# Tabela para análise"
   ]
  },
  {
   "cell_type": "markdown",
   "metadata": {},
   "source": [
    "## Imports necessários"
   ]
  },
  {
   "cell_type": "code",
   "execution_count": 1,
   "metadata": {
    "collapsed": false
   },
   "outputs": [
    {
     "name": "stdout",
     "output_type": "stream",
     "text": [
      "Populating the interactive namespace from numpy and matplotlib\n"
     ]
    }
   ],
   "source": [
    "import numpy as np\n",
    "%pylab inline\n",
    "import pylab as pl\n",
    "import matplotlib.pyplot as plt"
   ]
  },
  {
   "cell_type": "markdown",
   "metadata": {},
   "source": [
    "## Obtenção de dados dos arquivo CSV"
   ]
  },
  {
   "cell_type": "code",
   "execution_count": 2,
   "metadata": {
    "collapsed": false
   },
   "outputs": [],
   "source": [
    "from sqlalchemy import create_engine\n",
    "import pandas as pd\n",
    "dados=pd.read_csv(\"dados/alunosBD_P2.csv\",sep=',')"
   ]
  },
  {
   "cell_type": "code",
   "execution_count": 40,
   "metadata": {
    "collapsed": false
   },
   "outputs": [
    {
     "data": {
      "text/html": [
       "<div>\n",
       "<table border=\"1\" class=\"dataframe\">\n",
       "  <thead>\n",
       "    <tr style=\"text-align: right;\">\n",
       "      <th></th>\n",
       "      <th>Aluno</th>\n",
       "      <th>Nota1</th>\n",
       "      <th>Nota2P</th>\n",
       "      <th>Nota3</th>\n",
       "      <th>Situacao</th>\n",
       "    </tr>\n",
       "  </thead>\n",
       "  <tbody>\n",
       "    <tr>\n",
       "      <th>0</th>\n",
       "      <td>aluno01</td>\n",
       "      <td>28.00</td>\n",
       "      <td>6.650</td>\n",
       "      <td>27.0</td>\n",
       "      <td>Aprovado</td>\n",
       "    </tr>\n",
       "    <tr>\n",
       "      <th>1</th>\n",
       "      <td>aluno02</td>\n",
       "      <td>26.25</td>\n",
       "      <td>22.050</td>\n",
       "      <td>11.0</td>\n",
       "      <td>Reprovado</td>\n",
       "    </tr>\n",
       "    <tr>\n",
       "      <th>2</th>\n",
       "      <td>aluno03</td>\n",
       "      <td>33.25</td>\n",
       "      <td>25.725</td>\n",
       "      <td>25.5</td>\n",
       "      <td>Aprovado</td>\n",
       "    </tr>\n",
       "    <tr>\n",
       "      <th>3</th>\n",
       "      <td>aluno04</td>\n",
       "      <td>0.00</td>\n",
       "      <td>0.000</td>\n",
       "      <td>0.0</td>\n",
       "      <td>Reprovado</td>\n",
       "    </tr>\n",
       "    <tr>\n",
       "      <th>4</th>\n",
       "      <td>aluno05</td>\n",
       "      <td>26.25</td>\n",
       "      <td>28.000</td>\n",
       "      <td>24.0</td>\n",
       "      <td>Aprovado</td>\n",
       "    </tr>\n",
       "    <tr>\n",
       "      <th>5</th>\n",
       "      <td>aluno06</td>\n",
       "      <td>0.00</td>\n",
       "      <td>0.000</td>\n",
       "      <td>0.0</td>\n",
       "      <td>Reprovado</td>\n",
       "    </tr>\n",
       "    <tr>\n",
       "      <th>6</th>\n",
       "      <td>aluno07</td>\n",
       "      <td>26.25</td>\n",
       "      <td>17.850</td>\n",
       "      <td>24.0</td>\n",
       "      <td>Aprovado</td>\n",
       "    </tr>\n",
       "    <tr>\n",
       "      <th>7</th>\n",
       "      <td>aluno08</td>\n",
       "      <td>31.50</td>\n",
       "      <td>25.725</td>\n",
       "      <td>24.0</td>\n",
       "      <td>Aprovado</td>\n",
       "    </tr>\n",
       "    <tr>\n",
       "      <th>8</th>\n",
       "      <td>aluno09</td>\n",
       "      <td>29.75</td>\n",
       "      <td>15.225</td>\n",
       "      <td>22.5</td>\n",
       "      <td>Aprovado</td>\n",
       "    </tr>\n",
       "    <tr>\n",
       "      <th>9</th>\n",
       "      <td>aluno10</td>\n",
       "      <td>33.25</td>\n",
       "      <td>15.225</td>\n",
       "      <td>12.0</td>\n",
       "      <td>Aprovado</td>\n",
       "    </tr>\n",
       "  </tbody>\n",
       "</table>\n",
       "</div>"
      ],
      "text/plain": [
       "     Aluno  Nota1  Nota2P  Nota3   Situacao\n",
       "0  aluno01  28.00   6.650   27.0   Aprovado\n",
       "1  aluno02  26.25  22.050   11.0  Reprovado\n",
       "2  aluno03  33.25  25.725   25.5   Aprovado\n",
       "3  aluno04   0.00   0.000    0.0  Reprovado\n",
       "4  aluno05  26.25  28.000   24.0   Aprovado\n",
       "5  aluno06   0.00   0.000    0.0  Reprovado\n",
       "6  aluno07  26.25  17.850   24.0   Aprovado\n",
       "7  aluno08  31.50  25.725   24.0   Aprovado\n",
       "8  aluno09  29.75  15.225   22.5   Aprovado\n",
       "9  aluno10  33.25  15.225   12.0   Aprovado"
      ]
     },
     "execution_count": 40,
     "metadata": {},
     "output_type": "execute_result"
    }
   ],
   "source": [
    "dados.head(10)"
   ]
  },
  {
   "cell_type": "markdown",
   "metadata": {},
   "source": [
    "### Atributos preditivos X atributo de Classe"
   ]
  },
  {
   "cell_type": "code",
   "execution_count": 41,
   "metadata": {
    "collapsed": false
   },
   "outputs": [
    {
     "data": {
      "text/plain": [
       "Index([u'Aluno', u'Nota1', u'Nota2P', u'Nota3', u'Situacao'], dtype='object')"
      ]
     },
     "execution_count": 41,
     "metadata": {},
     "output_type": "execute_result"
    }
   ],
   "source": [
    "dados.columns"
   ]
  },
  {
   "cell_type": "markdown",
   "metadata": {},
   "source": [
    "\n",
    "Atributos preditivos (x):\n",
    "1. Nota1\n",
    "2. Nota2P\n",
    "3. Nota3\n",
    "\n",
    "Atributo Classe (y):\n",
    "1. Situacao"
   ]
  },
  {
   "cell_type": "markdown",
   "metadata": {},
   "source": [
    "Neste tipo de abordagem, o algoritmo classificador aprenderá como uma base de dados previamente existente. Com base neste aprendizado poderá classificar novos dados"
   ]
  },
  {
   "cell_type": "markdown",
   "metadata": {},
   "source": [
    "Qual a probabilidae de um cliente gastar 1000 ou mais para realizar uma compra."
   ]
  },
  {
   "cell_type": "code",
   "execution_count": 5,
   "metadata": {
    "collapsed": false
   },
   "outputs": [
    {
     "name": "stdout",
     "output_type": "stream",
     "text": [
      "38\n"
     ]
    }
   ],
   "source": [
    "#total de valores na amostra\n",
    "print((dados.count())['Aluno']) "
   ]
  },
  {
   "cell_type": "markdown",
   "metadata": {},
   "source": [
    "### 1. Condição A: Situacao = 'Aprovado'"
   ]
  },
  {
   "cell_type": "markdown",
   "metadata": {},
   "source": [
    "Temos:\n",
    "    * P(A)  = (Aprovados)/ (total da amostra)\n",
    "    * P(A)  = (29)/(38) \n",
    "    * P(A)  = 76,31"
   ]
  },
  {
   "cell_type": "code",
   "execution_count": 42,
   "metadata": {
    "collapsed": false
   },
   "outputs": [
    {
     "data": {
      "text/plain": [
       "76.31578947368422"
      ]
     },
     "execution_count": 42,
     "metadata": {},
     "output_type": "execute_result"
    }
   ],
   "source": [
    "P_A=(float((dados[dados.Situacao=='Aprovado'].count())['Aluno'])/float(((dados.count())['Aluno'])))*100\n",
    "P_A"
   ]
  },
  {
   "cell_type": "markdown",
   "metadata": {},
   "source": [
    "### Probabilidade de um cliente gastar muito (A) dado que possui 40 anos ou mais (B)"
   ]
  },
  {
   "cell_type": "markdown",
   "metadata": {},
   "source": [
    "P(A|B) = probabilidade de um cliente gastar muito dado que possui 40 anos ou mais.\n",
    "\n",
    "    Condição A: (Situacao = “Aprovado”).\n",
    "    Condição B: (Nota2P = “>=80”)."
   ]
  },
  {
   "cell_type": "markdown",
   "metadata": {},
   "source": [
    "Temos:\n",
    "    1. Calculamos primeiro a segunda condiçao (B) onde obtivemos 7 elementos\n",
    "    \n",
    "    2. Agora vamos calcular a condição A com base nos valores obtidos em B"
   ]
  },
  {
   "cell_type": "markdown",
   "metadata": {},
   "source": [
    "### Consulta com filtro via pandas"
   ]
  },
  {
   "cell_type": "code",
   "execution_count": 44,
   "metadata": {
    "collapsed": false
   },
   "outputs": [
    {
     "data": {
      "text/html": [
       "<div>\n",
       "<table border=\"1\" class=\"dataframe\">\n",
       "  <thead>\n",
       "    <tr style=\"text-align: right;\">\n",
       "      <th></th>\n",
       "      <th>Aluno</th>\n",
       "      <th>Nota1</th>\n",
       "      <th>Nota2P</th>\n",
       "      <th>Nota3</th>\n",
       "      <th>Situacao</th>\n",
       "    </tr>\n",
       "  </thead>\n",
       "  <tbody>\n",
       "    <tr>\n",
       "      <th>1</th>\n",
       "      <td>aluno02</td>\n",
       "      <td>26.25</td>\n",
       "      <td>22.050</td>\n",
       "      <td>11.0</td>\n",
       "      <td>Reprovado</td>\n",
       "    </tr>\n",
       "    <tr>\n",
       "      <th>2</th>\n",
       "      <td>aluno03</td>\n",
       "      <td>33.25</td>\n",
       "      <td>25.725</td>\n",
       "      <td>25.5</td>\n",
       "      <td>Aprovado</td>\n",
       "    </tr>\n",
       "    <tr>\n",
       "      <th>4</th>\n",
       "      <td>aluno05</td>\n",
       "      <td>26.25</td>\n",
       "      <td>28.000</td>\n",
       "      <td>24.0</td>\n",
       "      <td>Aprovado</td>\n",
       "    </tr>\n",
       "    <tr>\n",
       "      <th>7</th>\n",
       "      <td>aluno08</td>\n",
       "      <td>31.50</td>\n",
       "      <td>25.725</td>\n",
       "      <td>24.0</td>\n",
       "      <td>Aprovado</td>\n",
       "    </tr>\n",
       "    <tr>\n",
       "      <th>12</th>\n",
       "      <td>aluno13</td>\n",
       "      <td>28.00</td>\n",
       "      <td>20.125</td>\n",
       "      <td>27.0</td>\n",
       "      <td>Aprovado</td>\n",
       "    </tr>\n",
       "  </tbody>\n",
       "</table>\n",
       "</div>"
      ],
      "text/plain": [
       "      Aluno  Nota1  Nota2P  Nota3   Situacao\n",
       "1   aluno02  26.25  22.050   11.0  Reprovado\n",
       "2   aluno03  33.25  25.725   25.5   Aprovado\n",
       "4   aluno05  26.25  28.000   24.0   Aprovado\n",
       "7   aluno08  31.50  25.725   24.0   Aprovado\n",
       "12  aluno13  28.00  20.125   27.0   Aprovado"
      ]
     },
     "execution_count": 44,
     "metadata": {},
     "output_type": "execute_result"
    }
   ],
   "source": [
    "nota2p_maiorig_20=dados[dados.Nota2P>=20]\n",
    "nota2p_maiorig_20.head()"
   ]
  },
  {
   "cell_type": "code",
   "execution_count": 45,
   "metadata": {
    "collapsed": false
   },
   "outputs": [
    {
     "data": {
      "text/plain": [
       "19"
      ]
     },
     "execution_count": 45,
     "metadata": {},
     "output_type": "execute_result"
    }
   ],
   "source": [
    "#qtd obtida\n",
    "(nota2p_maiorig_20.count())['Aluno']"
   ]
  },
  {
   "cell_type": "code",
   "execution_count": 46,
   "metadata": {
    "collapsed": false
   },
   "outputs": [],
   "source": [
    "nota2p_maiorig_20_aprovados=nota2p_maiorig_20[nota2p_maiorig_20.Situacao=='Aprovado']"
   ]
  },
  {
   "cell_type": "markdown",
   "metadata": {},
   "source": [
    "### Total de registros retornados com nota2P maior que 20 que foram aprovados"
   ]
  },
  {
   "cell_type": "code",
   "execution_count": 49,
   "metadata": {
    "collapsed": false
   },
   "outputs": [
    {
     "data": {
      "text/plain": [
       "17"
      ]
     },
     "execution_count": 49,
     "metadata": {},
     "output_type": "execute_result"
    }
   ],
   "source": [
    "(nota2p_maiorig_20_aprovados.count())['Aluno']"
   ]
  },
  {
   "cell_type": "markdown",
   "metadata": {},
   "source": [
    "## Probabilidade das pessoas com nota2P maior que 20 serem pessoas que foram aprovadas"
   ]
  },
  {
   "cell_type": "markdown",
   "metadata": {},
   "source": [
    "Então Temos: \n",
    "        \n",
    "    \n",
    "    * P(A|B)  = (Situaca = \"Aprovado\") / (nota2P >20)\n",
    "    * P(A|B)  = (17)/(19) \n",
    "    * P(A|B)  = 89,47%"
   ]
  },
  {
   "cell_type": "code",
   "execution_count": 54,
   "metadata": {
    "collapsed": false
   },
   "outputs": [
    {
     "data": {
      "text/plain": [
       "89.47368421052632"
      ]
     },
     "execution_count": 54,
     "metadata": {},
     "output_type": "execute_result"
    }
   ],
   "source": [
    "(float(((nota2p_maiorig_20_aprovados.count())['Aluno']))/float(((nota2p_maiorig_20.count())['Aluno'])))*100"
   ]
  },
  {
   "cell_type": "markdown",
   "metadata": {},
   "source": [
    "## Conclusão"
   ]
  },
  {
   "cell_type": "markdown",
   "metadata": {},
   "source": [
    "Neste exemplo, obtivemos a probabilidade condicional de A dado B, representada por P(A|B). Para calcular esta probabilidade, levamos em consideração apenas o grupo de clientes com idade igual ou superior a 40 anos. São exatamente sete clientes (clientes de Id’s 1, 3, 5, 7, 8, 9 e 11, destacados na Tabela 2). Dentre estes sete clientes, observe que apenas três gastaram muito (clientes de Id’s 3, 5 e 8). Assim obtivemos P(A|B) = 3/7 = 42,86%. A conclusão é que, considerando os clientes mais velhos, uma parcela bem menor gasta muito nas compras (diminui de 53,33%, considerando todos os clientes, para 42,86%, considerando apenas os mais velhos)."
   ]
  },
  {
   "cell_type": "markdown",
   "metadata": {},
   "source": [
    "<br><br><br><br>"
   ]
  },
  {
   "cell_type": "markdown",
   "metadata": {},
   "source": [
    "### Definindo atributos preditios e atributo de classe"
   ]
  },
  {
   "cell_type": "code",
   "execution_count": 55,
   "metadata": {
    "collapsed": false
   },
   "outputs": [
    {
     "data": {
      "text/html": [
       "<div>\n",
       "<table border=\"1\" class=\"dataframe\">\n",
       "  <thead>\n",
       "    <tr style=\"text-align: right;\">\n",
       "      <th></th>\n",
       "      <th>Aluno</th>\n",
       "      <th>Nota1</th>\n",
       "      <th>Nota2P</th>\n",
       "      <th>Nota3</th>\n",
       "      <th>Situacao</th>\n",
       "    </tr>\n",
       "  </thead>\n",
       "  <tbody>\n",
       "    <tr>\n",
       "      <th>0</th>\n",
       "      <td>aluno01</td>\n",
       "      <td>28.00</td>\n",
       "      <td>6.650</td>\n",
       "      <td>27.0</td>\n",
       "      <td>Aprovado</td>\n",
       "    </tr>\n",
       "    <tr>\n",
       "      <th>1</th>\n",
       "      <td>aluno02</td>\n",
       "      <td>26.25</td>\n",
       "      <td>22.050</td>\n",
       "      <td>11.0</td>\n",
       "      <td>Reprovado</td>\n",
       "    </tr>\n",
       "    <tr>\n",
       "      <th>2</th>\n",
       "      <td>aluno03</td>\n",
       "      <td>33.25</td>\n",
       "      <td>25.725</td>\n",
       "      <td>25.5</td>\n",
       "      <td>Aprovado</td>\n",
       "    </tr>\n",
       "    <tr>\n",
       "      <th>3</th>\n",
       "      <td>aluno04</td>\n",
       "      <td>0.00</td>\n",
       "      <td>0.000</td>\n",
       "      <td>0.0</td>\n",
       "      <td>Reprovado</td>\n",
       "    </tr>\n",
       "    <tr>\n",
       "      <th>4</th>\n",
       "      <td>aluno05</td>\n",
       "      <td>26.25</td>\n",
       "      <td>28.000</td>\n",
       "      <td>24.0</td>\n",
       "      <td>Aprovado</td>\n",
       "    </tr>\n",
       "  </tbody>\n",
       "</table>\n",
       "</div>"
      ],
      "text/plain": [
       "     Aluno  Nota1  Nota2P  Nota3   Situacao\n",
       "0  aluno01  28.00   6.650   27.0   Aprovado\n",
       "1  aluno02  26.25  22.050   11.0  Reprovado\n",
       "2  aluno03  33.25  25.725   25.5   Aprovado\n",
       "3  aluno04   0.00   0.000    0.0  Reprovado\n",
       "4  aluno05  26.25  28.000   24.0   Aprovado"
      ]
     },
     "execution_count": 55,
     "metadata": {},
     "output_type": "execute_result"
    }
   ],
   "source": [
    "dados.head()"
   ]
  },
  {
   "cell_type": "markdown",
   "metadata": {},
   "source": [
    "## Treinando somente com os primeiros 28 registros de informações"
   ]
  },
  {
   "cell_type": "code",
   "execution_count": 58,
   "metadata": {
    "collapsed": false
   },
   "outputs": [],
   "source": [
    "atributos_preditivos_x=dados[['Nota1','Nota2P','Nota3']].head(28)\n",
    "atributos_classe_y=dados['Situacao'].head(28)"
   ]
  },
  {
   "cell_type": "code",
   "execution_count": 59,
   "metadata": {
    "collapsed": false
   },
   "outputs": [
    {
     "data": {
      "text/plain": [
       "0     Aprovado\n",
       "1    Reprovado\n",
       "2     Aprovado\n",
       "3    Reprovado\n",
       "4     Aprovado\n",
       "Name: Situacao, dtype: object"
      ]
     },
     "execution_count": 59,
     "metadata": {},
     "output_type": "execute_result"
    }
   ],
   "source": [
    "atributos_classe_y.head(5)"
   ]
  },
  {
   "cell_type": "code",
   "execution_count": 60,
   "metadata": {
    "collapsed": false
   },
   "outputs": [
    {
     "data": {
      "text/html": [
       "<div>\n",
       "<table border=\"1\" class=\"dataframe\">\n",
       "  <thead>\n",
       "    <tr style=\"text-align: right;\">\n",
       "      <th></th>\n",
       "      <th>Nota1</th>\n",
       "      <th>Nota2P</th>\n",
       "      <th>Nota3</th>\n",
       "    </tr>\n",
       "  </thead>\n",
       "  <tbody>\n",
       "    <tr>\n",
       "      <th>0</th>\n",
       "      <td>28.00</td>\n",
       "      <td>6.650</td>\n",
       "      <td>27.0</td>\n",
       "    </tr>\n",
       "    <tr>\n",
       "      <th>1</th>\n",
       "      <td>26.25</td>\n",
       "      <td>22.050</td>\n",
       "      <td>11.0</td>\n",
       "    </tr>\n",
       "    <tr>\n",
       "      <th>2</th>\n",
       "      <td>33.25</td>\n",
       "      <td>25.725</td>\n",
       "      <td>25.5</td>\n",
       "    </tr>\n",
       "    <tr>\n",
       "      <th>3</th>\n",
       "      <td>0.00</td>\n",
       "      <td>0.000</td>\n",
       "      <td>0.0</td>\n",
       "    </tr>\n",
       "    <tr>\n",
       "      <th>4</th>\n",
       "      <td>26.25</td>\n",
       "      <td>28.000</td>\n",
       "      <td>24.0</td>\n",
       "    </tr>\n",
       "  </tbody>\n",
       "</table>\n",
       "</div>"
      ],
      "text/plain": [
       "   Nota1  Nota2P  Nota3\n",
       "0  28.00   6.650   27.0\n",
       "1  26.25  22.050   11.0\n",
       "2  33.25  25.725   25.5\n",
       "3   0.00   0.000    0.0\n",
       "4  26.25  28.000   24.0"
      ]
     },
     "execution_count": 60,
     "metadata": {},
     "output_type": "execute_result"
    }
   ],
   "source": [
    "atributos_preditivos_x.head(5)"
   ]
  },
  {
   "cell_type": "markdown",
   "metadata": {},
   "source": [
    "reference: http://stackoverflow.com/questions/27117773/pandas-replace-values"
   ]
  },
  {
   "cell_type": "markdown",
   "metadata": {},
   "source": [
    "1. P (A|B) =  probabilidade de um aluno ser aprovado, dado que ele tem pontos 20 ou mais na nota2P.\n",
    "2. P (A|B) = (filtrar B, Filtrar A)\n",
    "3. P (A|B) = (Idade>=40 --> 7 pessoas), (Gastam muito entre os 7 anteriores = 3)\n",
    "4. P(A|B) ==> 3/7 ==> 42,86%"
   ]
  },
  {
   "cell_type": "code",
   "execution_count": 39,
   "metadata": {
    "collapsed": false
   },
   "outputs": [
    {
     "data": {
      "text/plain": [
       "GaussianNB(priors=None)"
      ]
     },
     "execution_count": 39,
     "metadata": {},
     "output_type": "execute_result"
    }
   ],
   "source": [
    "from sklearn.naive_bayes import GaussianNB\n",
    "clf = GaussianNB()\n",
    "clf.fit(atributos_preditivos_x,atributos_classe_y)"
   ]
  },
  {
   "cell_type": "code",
   "execution_count": 18,
   "metadata": {
    "collapsed": false
   },
   "outputs": [
    {
     "data": {
      "text/plain": [
       "array([ 0.71428571,  0.28571429])"
      ]
     },
     "execution_count": 18,
     "metadata": {},
     "output_type": "execute_result"
    }
   ],
   "source": [
    "clf.class_prior_"
   ]
  },
  {
   "cell_type": "code",
   "execution_count": 19,
   "metadata": {
    "collapsed": false
   },
   "outputs": [
    {
     "data": {
      "text/plain": [
       "array([ 20.,   8.])"
      ]
     },
     "execution_count": 19,
     "metadata": {},
     "output_type": "execute_result"
    }
   ],
   "source": [
    "clf.class_count_"
   ]
  },
  {
   "cell_type": "code",
   "execution_count": 20,
   "metadata": {
    "collapsed": false
   },
   "outputs": [
    {
     "data": {
      "text/plain": [
       "array(['Aprovado', 'Reprovado'], \n",
       "      dtype='|S9')"
      ]
     },
     "execution_count": 20,
     "metadata": {},
     "output_type": "execute_result"
    }
   ],
   "source": [
    "clf.classes_"
   ]
  },
  {
   "cell_type": "code",
   "execution_count": 21,
   "metadata": {
    "collapsed": false
   },
   "outputs": [
    {
     "data": {
      "text/plain": [
       "array(['Aprovado', 'Reprovado'], \n",
       "      dtype='|S9')"
      ]
     },
     "execution_count": 21,
     "metadata": {},
     "output_type": "execute_result"
    }
   ],
   "source": [
    "x=clf.classes_\n",
    "x"
   ]
  },
  {
   "cell_type": "code",
   "execution_count": 22,
   "metadata": {
    "collapsed": false
   },
   "outputs": [
    {
     "data": {
      "text/plain": [
       "array([[ 29.26875 ,  20.8975  ,  22.9     ],\n",
       "       [ 16.96875 ,  11.921875,  11.84375 ]])"
      ]
     },
     "execution_count": 22,
     "metadata": {},
     "output_type": "execute_result"
    }
   ],
   "source": [
    "clf.theta_"
   ]
  },
  {
   "cell_type": "code",
   "execution_count": 23,
   "metadata": {
    "collapsed": false
   },
   "outputs": [
    {
     "data": {
      "text/plain": [
       "0.8571428571428571"
      ]
     },
     "execution_count": 23,
     "metadata": {},
     "output_type": "execute_result"
    }
   ],
   "source": [
    "accuracy=clf.score(atributos_preditivos_x,atributos_classe_y)\n",
    "accuracy"
   ]
  },
  {
   "cell_type": "code",
   "execution_count": 26,
   "metadata": {
    "collapsed": false
   },
   "outputs": [
    {
     "data": {
      "text/html": [
       "<div>\n",
       "<table border=\"1\" class=\"dataframe\">\n",
       "  <thead>\n",
       "    <tr style=\"text-align: right;\">\n",
       "      <th></th>\n",
       "      <th>Nota1</th>\n",
       "      <th>Nota2P</th>\n",
       "      <th>Nota3</th>\n",
       "    </tr>\n",
       "  </thead>\n",
       "  <tbody>\n",
       "    <tr>\n",
       "      <th>0</th>\n",
       "      <td>28.00</td>\n",
       "      <td>6.650</td>\n",
       "      <td>27.0</td>\n",
       "    </tr>\n",
       "    <tr>\n",
       "      <th>1</th>\n",
       "      <td>26.25</td>\n",
       "      <td>22.050</td>\n",
       "      <td>11.0</td>\n",
       "    </tr>\n",
       "    <tr>\n",
       "      <th>2</th>\n",
       "      <td>33.25</td>\n",
       "      <td>25.725</td>\n",
       "      <td>25.5</td>\n",
       "    </tr>\n",
       "    <tr>\n",
       "      <th>3</th>\n",
       "      <td>0.00</td>\n",
       "      <td>0.000</td>\n",
       "      <td>0.0</td>\n",
       "    </tr>\n",
       "    <tr>\n",
       "      <th>4</th>\n",
       "      <td>26.25</td>\n",
       "      <td>28.000</td>\n",
       "      <td>24.0</td>\n",
       "    </tr>\n",
       "  </tbody>\n",
       "</table>\n",
       "</div>"
      ],
      "text/plain": [
       "   Nota1  Nota2P  Nota3\n",
       "0  28.00   6.650   27.0\n",
       "1  26.25  22.050   11.0\n",
       "2  33.25  25.725   25.5\n",
       "3   0.00   0.000    0.0\n",
       "4  26.25  28.000   24.0"
      ]
     },
     "execution_count": 26,
     "metadata": {},
     "output_type": "execute_result"
    }
   ],
   "source": [
    "atributos_preditivos_x.head(5)"
   ]
  },
  {
   "cell_type": "code",
   "execution_count": 27,
   "metadata": {
    "collapsed": false
   },
   "outputs": [
    {
     "data": {
      "text/plain": [
       "Nota1     25.754464\n",
       "Nota2P    18.333036\n",
       "Nota3     19.741071\n",
       "dtype: float64"
      ]
     },
     "execution_count": 27,
     "metadata": {},
     "output_type": "execute_result"
    }
   ],
   "source": [
    "atributos_preditivos_x.mean()"
   ]
  },
  {
   "cell_type": "code",
   "execution_count": 32,
   "metadata": {
    "collapsed": false
   },
   "outputs": [],
   "source": [
    "test_features=atributos_preditivos_x.tail(10)\n",
    "test_label = atributos_classe_y.tail(10)"
   ]
  },
  {
   "cell_type": "code",
   "execution_count": 33,
   "metadata": {
    "collapsed": false
   },
   "outputs": [
    {
     "name": "stdout",
     "output_type": "stream",
     "text": [
      "18     Aprovado\n",
      "19     Aprovado\n",
      "20     Aprovado\n",
      "21     Aprovado\n",
      "22     Aprovado\n",
      "23     Aprovado\n",
      "24    Reprovado\n",
      "25     Aprovado\n",
      "26    Reprovado\n",
      "27     Aprovado\n",
      "Name: Situacao, dtype: object\n",
      "     Nota1  Nota2P  Nota3\n",
      "18  26.250  16.450  28.50\n",
      "19  28.000  17.000  25.50\n",
      "20  13.000  28.000  24.00\n",
      "21  31.500  25.725  24.00\n",
      "22  28.000  30.275  25.50\n",
      "23  22.500  27.000  20.00\n",
      "24  21.250  18.000  18.75\n",
      "25  21.875  22.000  21.25\n",
      "26  22.500  17.250  10.00\n",
      "27  22.500  27.500  21.25\n"
     ]
    }
   ],
   "source": [
    "print(test_label)\n",
    "print(test_features)"
   ]
  },
  {
   "cell_type": "code",
   "execution_count": 34,
   "metadata": {
    "collapsed": false
   },
   "outputs": [
    {
     "name": "stdout",
     "output_type": "stream",
     "text": [
      "['Aprovado' 'Aprovado' 'Aprovado' 'Aprovado' 'Aprovado' 'Aprovado'\n",
      " 'Aprovado' 'Aprovado' 'Reprovado' 'Aprovado']\n"
     ]
    }
   ],
   "source": [
    "pred = clf.predict(test_features)\n",
    "print(pred)"
   ]
  },
  {
   "cell_type": "code",
   "execution_count": 36,
   "metadata": {
    "collapsed": false
   },
   "outputs": [
    {
     "data": {
      "text/plain": [
       "0.90000000000000002"
      ]
     },
     "execution_count": 36,
     "metadata": {},
     "output_type": "execute_result"
    }
   ],
   "source": [
    "accuracy_teste = clf.score(test_features,test_label)\n",
    "accuracy_teste"
   ]
  },
  {
   "cell_type": "code",
   "execution_count": 30,
   "metadata": {
    "collapsed": false
   },
   "outputs": [
    {
     "data": {
      "text/html": [
       "<div>\n",
       "<table border=\"1\" class=\"dataframe\">\n",
       "  <thead>\n",
       "    <tr style=\"text-align: right;\">\n",
       "      <th></th>\n",
       "      <th>Nota1</th>\n",
       "      <th>Nota2P</th>\n",
       "      <th>Nota3</th>\n",
       "    </tr>\n",
       "  </thead>\n",
       "  <tbody>\n",
       "    <tr>\n",
       "      <th>count</th>\n",
       "      <td>28.000000</td>\n",
       "      <td>28.000000</td>\n",
       "      <td>28.000000</td>\n",
       "    </tr>\n",
       "    <tr>\n",
       "      <th>mean</th>\n",
       "      <td>25.754464</td>\n",
       "      <td>18.333036</td>\n",
       "      <td>19.741071</td>\n",
       "    </tr>\n",
       "    <tr>\n",
       "      <th>std</th>\n",
       "      <td>11.800840</td>\n",
       "      <td>8.583932</td>\n",
       "      <td>7.841155</td>\n",
       "    </tr>\n",
       "    <tr>\n",
       "      <th>min</th>\n",
       "      <td>0.000000</td>\n",
       "      <td>0.000000</td>\n",
       "      <td>0.000000</td>\n",
       "    </tr>\n",
       "    <tr>\n",
       "      <th>25%</th>\n",
       "      <td>22.343750</td>\n",
       "      <td>15.225000</td>\n",
       "      <td>17.062500</td>\n",
       "    </tr>\n",
       "    <tr>\n",
       "      <th>50%</th>\n",
       "      <td>26.250000</td>\n",
       "      <td>17.850000</td>\n",
       "      <td>22.500000</td>\n",
       "    </tr>\n",
       "    <tr>\n",
       "      <th>75%</th>\n",
       "      <td>29.750000</td>\n",
       "      <td>25.725000</td>\n",
       "      <td>24.375000</td>\n",
       "    </tr>\n",
       "    <tr>\n",
       "      <th>max</th>\n",
       "      <td>68.000000</td>\n",
       "      <td>30.975000</td>\n",
       "      <td>28.500000</td>\n",
       "    </tr>\n",
       "  </tbody>\n",
       "</table>\n",
       "</div>"
      ],
      "text/plain": [
       "           Nota1     Nota2P      Nota3\n",
       "count  28.000000  28.000000  28.000000\n",
       "mean   25.754464  18.333036  19.741071\n",
       "std    11.800840   8.583932   7.841155\n",
       "min     0.000000   0.000000   0.000000\n",
       "25%    22.343750  15.225000  17.062500\n",
       "50%    26.250000  17.850000  22.500000\n",
       "75%    29.750000  25.725000  24.375000\n",
       "max    68.000000  30.975000  28.500000"
      ]
     },
     "execution_count": 30,
     "metadata": {},
     "output_type": "execute_result"
    }
   ],
   "source": [
    "atributos_preditivos_x.describe()"
   ]
  },
  {
   "cell_type": "code",
   "execution_count": 31,
   "metadata": {
    "collapsed": false
   },
   "outputs": [
    {
     "data": {
      "text/plain": [
       "<matplotlib.axes._subplots.AxesSubplot at 0x7fc08b5c7590>"
      ]
     },
     "execution_count": 31,
     "metadata": {},
     "output_type": "execute_result"
    },
    {
     "data": {
      "image/png": "[encoded data removed]",
      "text/plain": [
       "<matplotlib.figure.Figure at 0x7fc08b5ae890>"
      ]
     },
     "metadata": {},
     "output_type": "display_data"
    }
   ],
   "source": [
    "atributos_preditivos_x.head().boxplot()"
   ]
  },
  {
   "cell_type": "markdown",
   "metadata": {},
   "source": [
    "Reference: \n",
    "1. http://scikit-learn.org/stable/modules/generated/sklearn.naive_bayes.GaussianNB.html#sklearn.naive_bayes.GaussianNB\n",
    "1. http://www.devmedia.com.br/naive-bayes-mineracao-de-dados-na-pratica-revista-sql-magazine-110/27490\n",
    "2. https://www.analyticsvidhya.com/blog/2015/09/naive-bayes-explained/"
   ]
  },
  {
   "cell_type": "code",
   "execution_count": null,
   "metadata": {
    "collapsed": true
   },
   "outputs": [],
   "source": []
  }
 ],
 "metadata": {
  "kernelspec": {
   "display_name": "Python 2",
   "language": "python",
   "name": "python2"
  },
  "language_info": {
   "codemirror_mode": {
    "name": "ipython",
    "version": 2
   },
   "file_extension": ".py",
   "mimetype": "text/x-python",
   "name": "python",
   "nbconvert_exporter": "python",
   "pygments_lexer": "ipython2",
   "version": "2.7.12"
  }
 },
 "nbformat": 4,
 "nbformat_minor": 1
}

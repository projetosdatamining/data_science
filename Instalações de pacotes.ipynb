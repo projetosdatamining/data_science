{
 "cells": [
  {
   "cell_type": "code",
   "execution_count": 2,
   "metadata": {
    "collapsed": false
   },
   "outputs": [
    {
     "name": "stdout",
     "output_type": "stream",
     "text": [
      "Collecting pandas\n",
      "  Using cached pandas-0.19.0-cp35-cp35m-manylinux1_x86_64.whl\n",
      "Collecting pytz>=2011k (from pandas)\n",
      "  Using cached pytz-2016.7-py2.py3-none-any.whl\n",
      "Collecting python-dateutil>=2 (from pandas)\n",
      "  Using cached python_dateutil-2.5.3-py2.py3-none-any.whl\n",
      "Collecting numpy>=1.7.0 (from pandas)\n",
      "  Using cached numpy-1.11.2-cp35-cp35m-manylinux1_x86_64.whl\n",
      "Requirement already satisfied (use --upgrade to upgrade): six>=1.5 in /media/mso/Dados/BACKUPS_DINAMICOS/mv_permanentes_linux/datascience/lib/python3.5/site-packages (from python-dateutil>=2->pandas)\n",
      "Installing collected packages: pytz, python-dateutil, numpy, pandas\n",
      "Successfully installed numpy-1.11.2 pandas-0.19.0 python-dateutil-2.5.3 pytz-2016.7\n"
     ]
    }
   ],
   "source": [
    "!pip install pandas"
   ]
  },
  {
   "cell_type": "code",
   "execution_count": 10,
   "metadata": {
    "collapsed": false
   },
   "outputs": [
    {
     "name": "stdout",
     "output_type": "stream",
     "text": [
      "Collecting matplotlib\n",
      "  Using cached matplotlib-1.5.3-cp35-cp35m-manylinux1_x86_64.whl\n",
      "Collecting pyparsing!=2.0.0,!=2.0.4,!=2.1.2,>=1.5.6 (from matplotlib)\n",
      "  Using cached pyparsing-2.1.10-py2.py3-none-any.whl\n",
      "Requirement already satisfied (use --upgrade to upgrade): python-dateutil in /media/mso/Dados/BACKUPS_DINAMICOS/mv_permanentes_linux/datascience/lib/python3.5/site-packages (from matplotlib)\n",
      "Collecting cycler (from matplotlib)\n",
      "  Using cached cycler-0.10.0-py2.py3-none-any.whl\n",
      "Requirement already satisfied (use --upgrade to upgrade): pytz in /media/mso/Dados/BACKUPS_DINAMICOS/mv_permanentes_linux/datascience/lib/python3.5/site-packages (from matplotlib)\n",
      "Requirement already satisfied (use --upgrade to upgrade): numpy>=1.6 in /media/mso/Dados/BACKUPS_DINAMICOS/mv_permanentes_linux/datascience/lib/python3.5/site-packages (from matplotlib)\n",
      "Requirement already satisfied (use --upgrade to upgrade): six>=1.5 in /media/mso/Dados/BACKUPS_DINAMICOS/mv_permanentes_linux/datascience/lib/python3.5/site-packages (from python-dateutil->matplotlib)\n",
      "Installing collected packages: pyparsing, cycler, matplotlib\n",
      "Successfully installed cycler-0.10.0 matplotlib-1.5.3 pyparsing-2.1.10\n"
     ]
    }
   ],
   "source": [
    "!pip install matplotlib"
   ]
  },
  {
   "cell_type": "code",
   "execution_count": 1,
   "metadata": {
    "collapsed": false
   },
   "outputs": [
    {
     "name": "stdout",
     "output_type": "stream",
     "text": [
      "cycler==0.10.0\r\n",
      "decorator==4.0.10\r\n",
      "entrypoints==0.2.2\r\n",
      "ipykernel==4.5.0\r\n",
      "ipython==5.1.0\r\n",
      "ipython-genutils==0.1.0\r\n",
      "ipywidgets==5.2.2\r\n",
      "Jinja2==2.8\r\n",
      "jsonschema==2.5.1\r\n",
      "jupyter==1.0.0\r\n",
      "jupyter-client==4.4.0\r\n",
      "jupyter-console==5.0.0\r\n",
      "jupyter-core==4.2.0\r\n",
      "MarkupSafe==0.23\r\n",
      "matplotlib==1.5.3\r\n",
      "mistune==0.7.3\r\n",
      "nbconvert==4.2.0\r\n",
      "nbformat==4.1.0\r\n",
      "notebook==4.2.3\r\n",
      "numpy==1.11.2\r\n",
      "pandas==0.19.0\r\n",
      "pexpect==4.2.1\r\n",
      "pickleshare==0.7.4\r\n",
      "pkg-resources==0.0.0\r\n",
      "prompt-toolkit==1.0.7\r\n",
      "ptyprocess==0.5.1\r\n",
      "Pygments==2.1.3\r\n",
      "pyparsing==2.1.10\r\n",
      "python-dateutil==2.5.3\r\n",
      "pytz==2016.7\r\n",
      "pyzmq==15.4.0\r\n",
      "qtconsole==4.2.1\r\n",
      "simplegeneric==0.8.1\r\n",
      "six==1.10.0\r\n",
      "terminado==0.6\r\n",
      "tornado==4.4.2\r\n",
      "traitlets==4.3.1\r\n",
      "wcwidth==0.1.7\r\n",
      "widgetsnbextension==1.2.6\r\n"
     ]
    }
   ],
   "source": [
    "!pip freeze"
   ]
  },
  {
   "cell_type": "code",
   "execution_count": 2,
   "metadata": {
    "collapsed": false
   },
   "outputs": [
    {
     "name": "stdout",
     "output_type": "stream",
     "text": [
      "Collecting scipy\n",
      "  Downloading scipy-0.18.1-cp35-cp35m-manylinux1_x86_64.whl (42.0MB)\n",
      "\u001b[K    100% |████████████████████████████████| 42.0MB 38kB/s \n",
      "\u001b[?25hInstalling collected packages: scipy\n",
      "Successfully installed scipy-0.18.1\n"
     ]
    }
   ],
   "source": [
    "!pip install scipy"
   ]
  },
  {
   "cell_type": "code",
   "execution_count": 2,
   "metadata": {
    "collapsed": false
   },
   "outputs": [
    {
     "name": "stdout",
     "output_type": "stream",
     "text": [
      "Collecting tables\n",
      "  Downloading tables-3.3.0-cp35-cp35m-manylinux1_x86_64.whl (4.4MB)\n",
      "\u001b[K    100% |████████████████████████████████| 4.5MB 141kB/s \n",
      "\u001b[?25hCollecting numexpr>=2.5.2 (from tables)\n",
      "  Downloading numexpr-2.6.1-cp35-cp35m-manylinux1_x86_64.whl (388kB)\n",
      "\u001b[K    100% |████████████████████████████████| 389kB 176kB/s \n",
      "\u001b[?25hRequirement already satisfied (use --upgrade to upgrade): numpy>=1.8.0 in /media/mso/Dados/BACKUPS_DINAMICOS/mv_permanentes_linux/datascience/lib/python3.5/site-packages (from tables)\n",
      "Requirement already satisfied (use --upgrade to upgrade): six in /media/mso/Dados/BACKUPS_DINAMICOS/mv_permanentes_linux/datascience/lib/python3.5/site-packages (from tables)\n",
      "Installing collected packages: numexpr, tables\n",
      "Successfully installed numexpr-2.6.1 tables-3.3.0\n"
     ]
    }
   ],
   "source": [
    "#install PyTables\n",
    "!pip install tables"
   ]
  },
  {
   "cell_type": "markdown",
   "metadata": {},
   "source": [
    "Reference: \n",
    "    1. http://www.pytables.org/usersguide/installation.html"
   ]
  },
  {
   "cell_type": "code",
   "execution_count": null,
   "metadata": {
    "collapsed": true
   },
   "outputs": [],
   "source": []
  }
 ],
 "metadata": {
  "kernelspec": {
   "display_name": "Python 3",
   "language": "python",
   "name": "python3"
  },
  "language_info": {
   "codemirror_mode": {
    "name": "ipython",
    "version": 3
   },
   "file_extension": ".py",
   "mimetype": "text/x-python",
   "name": "python",
   "nbconvert_exporter": "python",
   "pygments_lexer": "ipython3",
   "version": "3.5.2"
  }
 },
 "nbformat": 4,
 "nbformat_minor": 1
}
